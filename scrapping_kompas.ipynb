{
 "cells": [
  {
   "cell_type": "code",
   "execution_count": 2,
   "metadata": {},
   "outputs": [
    {
     "name": "stdout",
     "output_type": "stream",
     "text": [
      "Limbah Kendaraan Listrik Masih Jadi Persoalan Krusial\n",
      "Deretan Mobil Listrik yang Ada di GIIAS 2022\n",
      "Mirip PEVS, Area Tes Indoor Kendaraan Listrik Juga Ada di GIIAS 2022\n",
      "PEVS 2022, Sedot 45.372 Pengunjung dan Transaksi Rp 257 Miliar\n",
      "Tidak Selamanya Bersih, Ini Potensi Limbah dari Mobil Listrik\n",
      "Ford Indonesia Belum Lirik Era Elektrifikasi\n",
      "Konversi Motor Listrik Elders Garage Masih Menyasar Pehobi\n",
      "Cerita Elders Garage, Dari Bengkel Custom Jadi Konversi Motor Listrik\n",
      "Ini Syarat Bengkel Umum Bisa Konversi Motor Bensin ke Listrik\n",
      "Dukung Energi Bersih, PLN Kampanye Kendaraan Listrik di Pulau Samosir\n",
      "Prediksi Motor Baru yang Meluncur di GIIAS 2022\n",
      "Konversi Motor Listrik Ditarget Capai 1 Juta Unit pada 2025\n",
      "Chery Akan Produksi Mobil Listrik di Indonesia Akhir 2023\n",
      "Total Biaya Kepemilikan Mobil Listrik Ternyata Masih Mahal\n",
      "Lingkungan Pemerintah Perlu Beri Contoh Pemakaian Kendaraan Listrik\n",
      "Prinsipal Chery Membeberkan Strategi Mobil Listrik di Indonesia\n",
      "Penetapan Standar Emisi Karbon Bisa Tekan Harga Mobil Listrik\n",
      "Jajaki Pasar Motor Listrik, Begini Sejarah Minerva di Indonesia\n",
      "Kementerian ESDM Siap Konversi 1.000 Unit Motor BBM Jadi Motor Listrik\n",
      "Banyak Motor Listrik di GIIAS 2022, Ini Komentar Gaikindo\n"
     ]
    }
   ],
   "source": [
    "import requests\n",
    "from bs4 import BeautifulSoup\n",
    "import pandas as pd\n",
    "page = requests.get('https://www.kompas.com/tag/kendaraan-listrik')\n",
    "soup = BeautifulSoup(page.text, 'html.parser')\n",
    "if page.status_code==200:\n",
    "   #articles = soup.find_all('p')\n",
    "   articles = soup.find(\"div\", {\"class\":\"col-bs10-7\"})\n",
    "   titles = articles.find_all(\"h3\", {\"class\":\"article__title\"})\n",
    "   description = articles.find_all(\"div\", {\"class\":\"article__lead\"})\n",
    "   for p in titles:\n",
    "      print(p.text)"
   ]
  },
  {
   "cell_type": "code",
   "execution_count": 1,
   "metadata": {},
   "outputs": [],
   "source": [
    "import requests\n",
    "from bs4 import BeautifulSoup as bs\n",
    "import pandas as pd\n",
    "  \n",
    "URL = 'https://www.kompas.com/tag/kendaraan-listrik'\n",
    "judul = []  \n",
    "\n",
    "for page in range(1,75):\n",
    "      # pls note that the total number of\n",
    "    # pages in the website is more than 5000 so i'm only taking the\n",
    "    # first 10 as this is just an example\n",
    "  \n",
    "    req = requests.get(URL+'?sort=desc&page='+str(page) )\n",
    "    soup = bs(req.text, 'html.parser')\n",
    "    articles = soup.find(\"div\", {\"class\":\"col-bs10-7\"})\n",
    "    titles = articles.find_all(\"h3\", {\"class\":\"article__title\"})\n",
    "    #description = articles.find_all(\"div\", {\"class\":\"article__lead\"})\n",
    "    #judul.append((titles))\n",
    "\n",
    "    for i in range(4,19):\n",
    "        new = titles[i].text\n",
    "        judul.append(new)\n",
    "#data_berita.extend(judul)\n",
    "#data_judul_berita = pd.DataFrame(data_berita, columns=['judul'])\n",
    "#data_judul_berita.head()"
   ]
  },
  {
   "cell_type": "code",
   "execution_count": 2,
   "metadata": {},
   "outputs": [],
   "source": [
    "data_judul_berita = pd.DataFrame(judul, columns=['judul'])"
   ]
  },
  {
   "cell_type": "code",
   "execution_count": 3,
   "metadata": {},
   "outputs": [
    {
     "data": {
      "text/html": [
       "<div>\n",
       "<style scoped>\n",
       "    .dataframe tbody tr th:only-of-type {\n",
       "        vertical-align: middle;\n",
       "    }\n",
       "\n",
       "    .dataframe tbody tr th {\n",
       "        vertical-align: top;\n",
       "    }\n",
       "\n",
       "    .dataframe thead th {\n",
       "        text-align: right;\n",
       "    }\n",
       "</style>\n",
       "<table border=\"1\" class=\"dataframe\">\n",
       "  <thead>\n",
       "    <tr style=\"text-align: right;\">\n",
       "      <th></th>\n",
       "      <th>judul</th>\n",
       "    </tr>\n",
       "  </thead>\n",
       "  <tbody>\n",
       "    <tr>\n",
       "      <th>0</th>\n",
       "      <td>Nissan Satu-satunya Pabrikan Jepang yang Punya...</td>\n",
       "    </tr>\n",
       "    <tr>\n",
       "      <th>1</th>\n",
       "      <td>Kawasaki Siapkan Motor Listrik Pertamanya, Tra...</td>\n",
       "    </tr>\n",
       "    <tr>\n",
       "      <th>2</th>\n",
       "      <td>PLN Tambah SPKLU di Tangerang, Dekat Bandara S...</td>\n",
       "    </tr>\n",
       "    <tr>\n",
       "      <th>3</th>\n",
       "      <td>MCAS Group Gandeng PT Pos Indonesia Kembangkan...</td>\n",
       "    </tr>\n",
       "    <tr>\n",
       "      <th>4</th>\n",
       "      <td>Pikat Tesla Agar Berinvestasi di Indonesia, Lu...</td>\n",
       "    </tr>\n",
       "    <tr>\n",
       "      <th>...</th>\n",
       "      <td>...</td>\n",
       "    </tr>\n",
       "    <tr>\n",
       "      <th>1105</th>\n",
       "      <td>Kemenperin Akan Luncurkan 10 Prototipe Mobil L...</td>\n",
       "    </tr>\n",
       "    <tr>\n",
       "      <th>1106</th>\n",
       "      <td>Mobil Listrik, Nissan Lebih Siap Dibanding Toy...</td>\n",
       "    </tr>\n",
       "    <tr>\n",
       "      <th>1107</th>\n",
       "      <td>PLN Klaim SPLU Motor Listrik Mudah Ditemui</td>\n",
       "    </tr>\n",
       "    <tr>\n",
       "      <th>1108</th>\n",
       "      <td>SPLU PLN Cuma untuk Sepeda Motor Listrik</td>\n",
       "    </tr>\n",
       "    <tr>\n",
       "      <th>1109</th>\n",
       "      <td>PLN Klaim Sudah Punya 500-an SPLU buat Kendara...</td>\n",
       "    </tr>\n",
       "  </tbody>\n",
       "</table>\n",
       "<p>1110 rows × 1 columns</p>\n",
       "</div>"
      ],
      "text/plain": [
       "                                                  judul\n",
       "0     Nissan Satu-satunya Pabrikan Jepang yang Punya...\n",
       "1     Kawasaki Siapkan Motor Listrik Pertamanya, Tra...\n",
       "2     PLN Tambah SPKLU di Tangerang, Dekat Bandara S...\n",
       "3     MCAS Group Gandeng PT Pos Indonesia Kembangkan...\n",
       "4     Pikat Tesla Agar Berinvestasi di Indonesia, Lu...\n",
       "...                                                 ...\n",
       "1105  Kemenperin Akan Luncurkan 10 Prototipe Mobil L...\n",
       "1106  Mobil Listrik, Nissan Lebih Siap Dibanding Toy...\n",
       "1107        PLN Klaim SPLU Motor Listrik Mudah Ditemui \n",
       "1108           SPLU PLN Cuma untuk Sepeda Motor Listrik\n",
       "1109  PLN Klaim Sudah Punya 500-an SPLU buat Kendara...\n",
       "\n",
       "[1110 rows x 1 columns]"
      ]
     },
     "execution_count": 3,
     "metadata": {},
     "output_type": "execute_result"
    }
   ],
   "source": [
    "data_judul_berita"
   ]
  },
  {
   "cell_type": "code",
   "execution_count": 4,
   "metadata": {},
   "outputs": [],
   "source": [
    "data_judul_berita.to_csv('judul_berita_kendaraan_listrik.csv', index=False)"
   ]
  },
  {
   "cell_type": "code",
   "execution_count": null,
   "metadata": {},
   "outputs": [],
   "source": [
    "for i in range(4,19):\n",
    "        if page>1:\n",
    "            print(f\"{(i-3)+page*15} \" + titles[i].text)\n",
    "        else:\n",
    "            print(f\"{i-3} \" + titles[i].text)"
   ]
  },
  {
   "cell_type": "code",
   "execution_count": null,
   "metadata": {},
   "outputs": [],
   "source": [
    "for j in links:\n",
    "        Statement = j.find(\"div\",attrs={'class':'m-statement__quote'}).text.strip()\n",
    "        Link = \"https://www.politifact.com\"\n",
    "        Link += j.find(\"div\",attrs={'class':'m-statement__quote'}).find('a')['href'].strip()\n",
    "        Date = j.find('div',attrs={'class':'m-statement__body'}).find('footer').text[-14:-1].strip()\n",
    "        Source = j.find('div', attrs={'class':'m-statement__meta'}).find('a').text.strip()\n",
    "        Label = j.find('div', attrs ={'class':'m-statement__content'}).find('img',attrs={'class':'c-image__original'}).get('alt').strip()\n",
    "        frame.append((Statement,Link,Date,Source,Label))\n",
    "        f.write(Statement.replace(\",\",\"^\")+\",\"+Link+\",\"+Date.replace(\",\",\"^\")+\",\"+Source.replace(\",\",\"^\")+\",\"+Label.replace(\",\",\"^\")+\"\\n\")\n",
    "    upperframe.extend(frame)\n",
    "f.close()\n",
    "data=pd.DataFrame(upperframe, columns=['Statement','Link','Date','Source','Label'])\n",
    "data.head()"
   ]
  },
  {
   "cell_type": "code",
   "execution_count": 1,
   "metadata": {},
   "outputs": [
    {
     "data": {
      "text/html": [
       "<div>\n",
       "<style scoped>\n",
       "    .dataframe tbody tr th:only-of-type {\n",
       "        vertical-align: middle;\n",
       "    }\n",
       "\n",
       "    .dataframe tbody tr th {\n",
       "        vertical-align: top;\n",
       "    }\n",
       "\n",
       "    .dataframe thead th {\n",
       "        text-align: right;\n",
       "    }\n",
       "</style>\n",
       "<table border=\"1\" class=\"dataframe\">\n",
       "  <thead>\n",
       "    <tr style=\"text-align: right;\">\n",
       "      <th></th>\n",
       "      <th>judul</th>\n",
       "    </tr>\n",
       "  </thead>\n",
       "  <tbody>\n",
       "    <tr>\n",
       "      <th>0</th>\n",
       "      <td>Nissan Satu-satunya Pabrikan Jepang yang Punya...</td>\n",
       "    </tr>\n",
       "    <tr>\n",
       "      <th>1</th>\n",
       "      <td>Kawasaki Siapkan Motor Listrik Pertamanya, Tra...</td>\n",
       "    </tr>\n",
       "    <tr>\n",
       "      <th>2</th>\n",
       "      <td>PLN Tambah SPKLU di Tangerang, Dekat Bandara S...</td>\n",
       "    </tr>\n",
       "    <tr>\n",
       "      <th>3</th>\n",
       "      <td>MCAS Group Gandeng PT Pos Indonesia Kembangkan...</td>\n",
       "    </tr>\n",
       "    <tr>\n",
       "      <th>4</th>\n",
       "      <td>Pikat Tesla Agar Berinvestasi di Indonesia, Lu...</td>\n",
       "    </tr>\n",
       "    <tr>\n",
       "      <th>...</th>\n",
       "      <td>...</td>\n",
       "    </tr>\n",
       "    <tr>\n",
       "      <th>1105</th>\n",
       "      <td>Kemenperin Akan Luncurkan 10 Prototipe Mobil L...</td>\n",
       "    </tr>\n",
       "    <tr>\n",
       "      <th>1106</th>\n",
       "      <td>Mobil Listrik, Nissan Lebih Siap Dibanding Toy...</td>\n",
       "    </tr>\n",
       "    <tr>\n",
       "      <th>1107</th>\n",
       "      <td>PLN Klaim SPLU Motor Listrik Mudah Ditemui</td>\n",
       "    </tr>\n",
       "    <tr>\n",
       "      <th>1108</th>\n",
       "      <td>SPLU PLN Cuma untuk Sepeda Motor Listrik</td>\n",
       "    </tr>\n",
       "    <tr>\n",
       "      <th>1109</th>\n",
       "      <td>PLN Klaim Sudah Punya 500-an SPLU buat Kendara...</td>\n",
       "    </tr>\n",
       "  </tbody>\n",
       "</table>\n",
       "<p>1110 rows × 1 columns</p>\n",
       "</div>"
      ],
      "text/plain": [
       "                                                  judul\n",
       "0     Nissan Satu-satunya Pabrikan Jepang yang Punya...\n",
       "1     Kawasaki Siapkan Motor Listrik Pertamanya, Tra...\n",
       "2     PLN Tambah SPKLU di Tangerang, Dekat Bandara S...\n",
       "3     MCAS Group Gandeng PT Pos Indonesia Kembangkan...\n",
       "4     Pikat Tesla Agar Berinvestasi di Indonesia, Lu...\n",
       "...                                                 ...\n",
       "1105  Kemenperin Akan Luncurkan 10 Prototipe Mobil L...\n",
       "1106  Mobil Listrik, Nissan Lebih Siap Dibanding Toy...\n",
       "1107        PLN Klaim SPLU Motor Listrik Mudah Ditemui \n",
       "1108           SPLU PLN Cuma untuk Sepeda Motor Listrik\n",
       "1109  PLN Klaim Sudah Punya 500-an SPLU buat Kendara...\n",
       "\n",
       "[1110 rows x 1 columns]"
      ]
     },
     "execution_count": 1,
     "metadata": {},
     "output_type": "execute_result"
    }
   ],
   "source": [
    "import pandas as pd\n",
    "df = pd.read_csv('judul_berita_kendaraan_listrik.csv')\n",
    "df"
   ]
  },
  {
   "cell_type": "markdown",
   "metadata": {},
   "source": [
    "Scrapping review produk"
   ]
  },
  {
   "cell_type": "code",
   "execution_count": 1,
   "metadata": {},
   "outputs": [],
   "source": [
    "import requests\n",
    "from bs4 import BeautifulSoup\n",
    "import pandas as pd"
   ]
  },
  {
   "cell_type": "code",
   "execution_count": null,
   "metadata": {},
   "outputs": [],
   "source": []
  }
 ],
 "metadata": {
  "interpreter": {
   "hash": "5c69b6973ae75b83d1afa700805465d404086bfca17f0210175cab169fc2c4b8"
  },
  "kernelspec": {
   "display_name": "Python 3.9.13 64-bit (windows store)",
   "language": "python",
   "name": "python3"
  },
  "language_info": {
   "codemirror_mode": {
    "name": "ipython",
    "version": 3
   },
   "file_extension": ".py",
   "mimetype": "text/x-python",
   "name": "python",
   "nbconvert_exporter": "python",
   "pygments_lexer": "ipython3",
   "version": "3.9.13"
  },
  "orig_nbformat": 4
 },
 "nbformat": 4,
 "nbformat_minor": 2
}
